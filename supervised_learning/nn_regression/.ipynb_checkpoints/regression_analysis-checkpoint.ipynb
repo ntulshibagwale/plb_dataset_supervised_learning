{
 "cells": [
  {
   "cell_type": "code",
   "execution_count": 1,
   "id": "7bf42759",
   "metadata": {},
   "outputs": [],
   "source": [
    "import os\n",
    "from ae_functions import get_folder_pickle_files\n",
    "from load_data import *\n",
    "import matplotlib.pyplot as plt\n",
    "from ae_functions import *\n",
    "from torch.utils.data import DataLoader\n",
    "\n",
    "from acoustic_emission_dataset import AcousticEmissionDataset"
   ]
  },
  {
   "cell_type": "markdown",
   "id": "a12ece7c",
   "metadata": {},
   "source": [
    "# Load AE Dataset"
   ]
  },
  {
   "cell_type": "code",
   "execution_count": null,
   "id": "17ddc477",
   "metadata": {},
   "outputs": [],
   "source": [
    "# SIGNAL PROCESSING CONSTANTS\n",
    "SIG_LEN = 1024           # [samples / signal] ;\n",
    "DT = 10**-7              # [seconds] ; sample period / time between samples\n",
    "LOW_PASS = 50*10**3      # [Hz] ; low frequency cutoff\n",
    "HIGH_PASS = 800*10**3    # [Hz] ; high frequency cutoff\n",
    "FFT_UNITS = 1000         # FFT outputs in Hz, this converts to kHz\n",
    "NUM_BINS = 26            # For partial power\n",
    "\n",
    "# FILE I/O\n",
    "JSON_DATA_FILE = 'C:/Users/tul72/Desktop/phd/projects/pencil_lead_breaks/Data/PLB_data.json'\n",
    "\n",
    "# Load AE data\n",
    "ae_dataset = AcousticEmissionDataset(JSON_DATA_FILE,SIG_LEN,DT,LOW_PASS,\n",
    "                                     HIGH_PASS,FFT_UNITS,NUM_BINS,0,0)\n",
    "\n",
    "angles = ae_dataset.angles # what the one hot encoded targets map to\n",
    "num_classes = len(angles)  # how many diff angles, for model output dim\n",
    "example_feature_vec, _ = ae_dataset[0] # to determine feature dim\n",
    "feature_dim = example_feature_vec.shape[0] # for model creation input dim"
   ]
  },
  {
   "cell_type": "code",
   "execution_count": null,
   "id": "3065cdb3",
   "metadata": {},
   "outputs": [],
   "source": [
    "## Get specific angles for test set\n",
    "test_angles = ['40deg']\n",
    "test_data = ae_dataset._get_angle_subset(test_angles)\n",
    "test_data_loader = DataLoader(test_data)\n"
   ]
  },
  {
   "cell_type": "code",
   "execution_count": 13,
   "id": "f8266644",
   "metadata": {},
   "outputs": [
    {
     "name": "stdout",
     "output_type": "stream",
     "text": [
      "Shape of waves is: torch.Size([847, 1024])\n",
      "Datatype of waves is: torch.float32\n",
      "waves requires grad: False\n",
      "Shape of targets is: torch.Size([847, 5])\n",
      "Datatype of targets is: torch.float32\n",
      "targets requires grad: False\n",
      "\n",
      "NeuralNetwork_02(\n",
      "  (layers): Sequential(\n",
      "    (0): Linear(in_features=1024, out_features=50, bias=True)\n",
      "    (1): ReLU()\n",
      "    (2): Linear(in_features=50, out_features=1, bias=True)\n",
      "  )\n",
      ")\n"
     ]
    }
   ],
   "source": [
    "\n",
    "    \n",
    "pth_path = './experiment_01/nn01_500_0.001_adam_mse.pth'\n",
    "model_num = 2\n",
    "feature_dim = 1024\n",
    "model = load_model(pth_path, model_num, feature_dim)\n"
   ]
  },
  {
   "cell_type": "code",
   "execution_count": 11,
   "id": "d24e777d",
   "metadata": {},
   "outputs": [],
   "source": [
    "model.eval()\n",
    "with torch.no_grad():\n",
    "    test_predicted = []\n",
    "    test_actual = []\n",
    "    total_examples = 0\n",
    "    #total_correct = 0\n",
    "    for inputs, targets in test_data_loader:\n",
    "        prediction = model(inputs) # Tensor (1,3) -> ex. [0.1, 0.01,0.6]\n",
    "        test_predicted.append(prediction.numpy())\n",
    "        \n",
    "test_predicted = np.array(test_predicted)\n",
    "test_predicted = test_predicted.flatten()"
   ]
  },
  {
   "cell_type": "code",
   "execution_count": 12,
   "id": "ca05023e",
   "metadata": {},
   "outputs": [
    {
     "data": {
      "image/png": "[encoded data removed]",
      "text/plain": [
       "<Figure size 432x288 with 1 Axes>"
      ]
     },
     "metadata": {
      "needs_background": "light"
     },
     "output_type": "display_data"
    }
   ],
   "source": [
    "plt.hist(test_predicted)\n",
    "plt.ylabel('Num Predicted')\n",
    "plt.xlabel('Angle (deg)')\n",
    "plt.title(f'Model Predictions on {test_angles[0]} test Set | Only Trained on 20 and 40 degree waves')\n",
    "plt.show()"
   ]
  },
  {
   "cell_type": "code",
   "execution_count": null,
   "id": "2604c932",
   "metadata": {},
   "outputs": [],
   "source": []
  },
  {
   "cell_type": "code",
   "execution_count": null,
   "id": "d1733601",
   "metadata": {},
   "outputs": [],
   "source": []
  }
 ],
 "metadata": {
  "kernelspec": {
   "display_name": "Python 3 (ipykernel)",
   "language": "python",
   "name": "python3"
  },
  "language_info": {
   "codemirror_mode": {
    "name": "ipython",
    "version": 3
   },
   "file_extension": ".py",
   "mimetype": "text/x-python",
   "name": "python",
   "nbconvert_exporter": "python",
   "pygments_lexer": "ipython3",
   "version": "3.8.12"
  },
  "varInspector": {
   "cols": {
    "lenName": 16,
    "lenType": 16,
    "lenVar": 40
   },
   "kernels_config": {
    "python": {
     "delete_cmd_postfix": "",
     "delete_cmd_prefix": "del ",
     "library": "var_list.py",
     "varRefreshCmd": "print(var_dic_list())"
    },
    "r": {
     "delete_cmd_postfix": ") ",
     "delete_cmd_prefix": "rm(",
     "library": "var_list.r",
     "varRefreshCmd": "cat(var_dic_list()) "
    }
   },
   "types_to_exclude": [
    "module",
    "function",
    "builtin_function_or_method",
    "instance",
    "_Feature"
   ],
   "window_display": false
  }
 },
 "nbformat": 4,
 "nbformat_minor": 5
}
