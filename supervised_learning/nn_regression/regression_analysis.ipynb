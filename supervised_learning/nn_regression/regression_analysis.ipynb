{
 "cells": [
  {
   "cell_type": "code",
   "execution_count": 2,
   "id": "7bf42759",
   "metadata": {},
   "outputs": [],
   "source": [
    "import os\n",
    "from ae_functions import get_folder_pickle_files\n",
    "from load_data import *\n",
    "import matplotlib.pyplot as plt\n",
    "from ae_functions import *\n",
    "from torch.utils.data import DataLoader\n",
    "import numpy as np\n",
    "from acoustic_emission_dataset import AcousticEmissionDataset"
   ]
  },
  {
   "cell_type": "markdown",
   "id": "a1b5759a",
   "metadata": {},
   "source": [
    "# Load AE Dataset"
   ]
  },
  {
   "cell_type": "code",
   "execution_count": 3,
   "id": "d08705da",
   "metadata": {},
   "outputs": [
    {
     "name": "stdout",
     "output_type": "stream",
     "text": [
      "targets_num is the angle. ex: 20.0 or 40.0\n",
      "targets_one_hot is the one hot encoding for angle. ex: [1 0 1]\n",
      "\n",
      "Shape of waves is: torch.Size([847, 1024])\n",
      "Datatype of waves is: torch.float32\n",
      "waves requires grad: False\n",
      "Shape of targets is: torch.Size([847])\n",
      "Datatype of targets is: torch.int64\n",
      "targets requires grad: False\n",
      "Ex: 0\n",
      "Shape of targets_num is: torch.Size([847])\n",
      "Datatype of targets_num is: torch.float32\n",
      "targets_num requires grad: False\n",
      "Ex: 20.0\n",
      "Shape of targets_one_hot is: torch.Size([847, 5])\n",
      "Datatype of targets_one_hot is: torch.float32\n",
      "targets_one_hot requires grad: False\n",
      "Ex: tensor([1, 0, 0, 0, 0])\n",
      "\n",
      "AcousticEmissionDataset loaded in!\n",
      "\n"
     ]
    }
   ],
   "source": [
    "# SIGNAL PROCESSING CONSTANTS\n",
    "SIG_LEN = 1024           # [samples / signal] ;\n",
    "DT = 10**-7              # [seconds] ; sample period / time between samples\n",
    "LOW_PASS = 50*10**3      # [Hz] ; low frequency cutoff\n",
    "HIGH_PASS = 800*10**3    # [Hz] ; high frequency cutoff\n",
    "FFT_UNITS = 1000         # FFT outputs in Hz, this converts to kHz\n",
    "NUM_BINS = 26            # For partial power\n",
    "\n",
    "# FILE I/O\n",
    "JSON_DATA_FILE = 'C:/Users/tul72/Desktop/phd/projects/pencil_lead_breaks/Data/PLB_data.json'\n",
    "\n",
    "# Load AE data\n",
    "ae_dataset = AcousticEmissionDataset(JSON_DATA_FILE,SIG_LEN,DT,LOW_PASS,\n",
    "                                     HIGH_PASS,FFT_UNITS,NUM_BINS,0,0)\n",
    "\n",
    "angles = ae_dataset.angles # what the one hot encoded targets map to\n",
    "num_classes = len(angles)  # how many diff angles, for model output dim\n",
    "example_feature_vec, _ = ae_dataset[0] # to determine feature dim\n",
    "feature_dim = example_feature_vec.shape[0] # for model creation input dim"
   ]
  },
  {
   "cell_type": "markdown",
   "id": "99280024",
   "metadata": {},
   "source": [
    "# Load Experimental Data"
   ]
  },
  {
   "cell_type": "code",
   "execution_count": 19,
   "id": "ad338a45",
   "metadata": {},
   "outputs": [
    {
     "name": "stdout",
     "output_type": "stream",
     "text": [
      "Retrieved data (1 pickle files) from C:\\Users\\tul72\\Desktop\\phd\\projects\\pencil_lead_breaks\\supervised_learning\\nn_regression/experiment_03/\n"
     ]
    }
   ],
   "source": [
    "EXPERIMENT = 3\n",
    "data=load_experiment_results(EXPERIMENT)"
   ]
  },
  {
   "cell_type": "code",
   "execution_count": 20,
   "id": "919bbe35",
   "metadata": {},
   "outputs": [
    {
     "data": {
      "image/png": "[encoded data removed]",
      "text/plain": [
       "<Figure size 360x216 with 1 Axes>"
      ]
     },
     "metadata": {
      "needs_background": "light"
     },
     "output_type": "display_data"
    }
   ],
   "source": [
    "x = np.linspace(0,data['EPOCHS'],int(data['EPOCHS']/50)+1)\n",
    "\n",
    "create_figure('', 1, 1, width=5, height=3,\n",
    "                  suptitle_font_size=20, default_font_size=10,\n",
    "                  title_font_size=24, axes_font_size=22, tick_font_size=20,\n",
    "                  legend_font_size=10, w_space=0.25, h_space=0.25)\n",
    "\n",
    "plt.plot(x[1:],data['Loss'][1:])\n",
    "plt.xlabel('Epochs')\n",
    "plt.ylabel('Loss')\n",
    "plt.title(f'Model Training Loss | {EXPERIMENT}')\n",
    "plt.show()"
   ]
  },
  {
   "cell_type": "markdown",
   "id": "5668d42f",
   "metadata": {},
   "source": [
    "# Load Trained Model"
   ]
  },
  {
   "cell_type": "code",
   "execution_count": 21,
   "id": "32b5ec2b",
   "metadata": {},
   "outputs": [
    {
     "name": "stdout",
     "output_type": "stream",
     "text": [
      "NeuralNetwork_02(\n",
      "  (layers): Sequential(\n",
      "    (0): Linear(in_features=1024, out_features=50, bias=True)\n",
      "    (1): ReLU()\n",
      "    (2): Linear(in_features=50, out_features=1, bias=True)\n",
      "  )\n",
      ")\n"
     ]
    }
   ],
   "source": [
    "pth_path = './experiment_03/nn01_3000_0.001_adam_mse.pth'\n",
    "model_num = 2\n",
    "feature_dim = 1024\n",
    "model = load_model(pth_path, model_num, feature_dim)"
   ]
  },
  {
   "cell_type": "markdown",
   "id": "cef45a60",
   "metadata": {},
   "source": [
    "# Evaluated Trained Model on Waveforms of Specific Angle"
   ]
  },
  {
   "cell_type": "code",
   "execution_count": 22,
   "id": "a9ac3a04",
   "metadata": {},
   "outputs": [
    {
     "data": {
      "text/plain": [
       "146"
      ]
     },
     "execution_count": 22,
     "metadata": {},
     "output_type": "execute_result"
    }
   ],
   "source": [
    "test_angles = ['40deg']\n",
    "test_data = ae_dataset._get_angle_subset(test_angles)\n",
    "test_data_loader = DataLoader(test_data)\n",
    "len(test_data)"
   ]
  },
  {
   "cell_type": "code",
   "execution_count": 23,
   "id": "d24e777d",
   "metadata": {},
   "outputs": [],
   "source": [
    "model.eval()\n",
    "with torch.no_grad():\n",
    "    test_predicted = []\n",
    "    for inputs, targets in test_data_loader: # loop through all examples\n",
    "        prediction = model(inputs)  # trained model prediction\n",
    "        test_predicted.append(prediction.numpy()) # save prediction\n",
    "        \n",
    "test_predicted = np.array(test_predicted)\n",
    "test_predicted = test_predicted.flatten()"
   ]
  },
  {
   "cell_type": "markdown",
   "id": "1aae29a2",
   "metadata": {},
   "source": [
    "# Visualize Predictions"
   ]
  },
  {
   "cell_type": "code",
   "execution_count": 24,
   "id": "ca05023e",
   "metadata": {
    "scrolled": true
   },
   "outputs": [
    {
     "data": {
      "image/png": "[encoded data removed]",
      "text/plain": [
       "<Figure size 360x216 with 1 Axes>"
      ]
     },
     "metadata": {
      "needs_background": "light"
     },
     "output_type": "display_data"
    }
   ],
   "source": [
    "create_figure('', 1, 1, width=5, height=3,\n",
    "                  suptitle_font_size=18, default_font_size=10,\n",
    "                  title_font_size=22, axes_font_size=18, tick_font_size=20,\n",
    "                  legend_font_size=14, w_space=0.25, h_space=0.25)\n",
    "\n",
    "mean = test_predicted.mean()\n",
    "std = test_predicted.std()\n",
    "plt.hist(test_predicted,bins=30)\n",
    "plt.axvline(test_predicted.mean(),color='red',linestyle='--',label=f'Mean: {mean:.3g}')\n",
    "plt.axvline(mean+std,color='purple',linestyle='--',label=f'Std: {std:.3g}')\n",
    "plt.axvline(mean-std,color='purple',linestyle='--')\n",
    "plt.ylabel('Num Predicted')\n",
    "plt.xlabel('Angle (deg)')\n",
    "plt.xlim([15, 45])\n",
    "plt.title(f'Model Predictions on {test_angles[0]}')\n",
    "plt.legend()\n",
    "plt.show()"
   ]
  },
  {
   "cell_type": "code",
   "execution_count": null,
   "id": "1f12a68c",
   "metadata": {},
   "outputs": [],
   "source": []
  },
  {
   "cell_type": "code",
   "execution_count": null,
   "id": "d1a0f93b",
   "metadata": {},
   "outputs": [],
   "source": []
  }
 ],
 "metadata": {
  "kernelspec": {
   "display_name": "Python 3 (ipykernel)",
   "language": "python",
   "name": "python3"
  },
  "language_info": {
   "codemirror_mode": {
    "name": "ipython",
    "version": 3
   },
   "file_extension": ".py",
   "mimetype": "text/x-python",
   "name": "python",
   "nbconvert_exporter": "python",
   "pygments_lexer": "ipython3",
   "version": "3.8.12"
  },
  "varInspector": {
   "cols": {
    "lenName": 16,
    "lenType": 16,
    "lenVar": 40
   },
   "kernels_config": {
    "python": {
     "delete_cmd_postfix": "",
     "delete_cmd_prefix": "del ",
     "library": "var_list.py",
     "varRefreshCmd": "print(var_dic_list())"
    },
    "r": {
     "delete_cmd_postfix": ") ",
     "delete_cmd_prefix": "rm(",
     "library": "var_list.r",
     "varRefreshCmd": "cat(var_dic_list()) "
    }
   },
   "types_to_exclude": [
    "module",
    "function",
    "builtin_function_or_method",
    "instance",
    "_Feature"
   ],
   "window_display": false
  }
 },
 "nbformat": 4,
 "nbformat_minor": 5
}
